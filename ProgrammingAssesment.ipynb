{
 "cells": [
  {
   "cell_type": "code",
   "execution_count": 2,
   "metadata": {
    "colab": {
     "base_uri": "https://localhost:8080/",
     "height": 206
    },
    "id": "rFmkSlozNQgy",
    "outputId": "4d5013e6-4658-4712-8b1e-a6bc00c083bf"
   },
   "outputs": [
    {
     "data": {
      "text/html": [
       "<div>\n",
       "<style scoped>\n",
       "    .dataframe tbody tr th:only-of-type {\n",
       "        vertical-align: middle;\n",
       "    }\n",
       "\n",
       "    .dataframe tbody tr th {\n",
       "        vertical-align: top;\n",
       "    }\n",
       "\n",
       "    .dataframe thead th {\n",
       "        text-align: right;\n",
       "    }\n",
       "</style>\n",
       "<table border=\"1\" class=\"dataframe\">\n",
       "  <thead>\n",
       "    <tr style=\"text-align: right;\">\n",
       "      <th></th>\n",
       "      <th>feature_1</th>\n",
       "      <th>feature_2</th>\n",
       "      <th>feature_3</th>\n",
       "      <th>feature_4</th>\n",
       "      <th>isVirus</th>\n",
       "    </tr>\n",
       "  </thead>\n",
       "  <tbody>\n",
       "    <tr>\n",
       "      <th>0</th>\n",
       "      <td>-0.233467</td>\n",
       "      <td>0.308799</td>\n",
       "      <td>2.484015</td>\n",
       "      <td>1.732721</td>\n",
       "      <td>False</td>\n",
       "    </tr>\n",
       "    <tr>\n",
       "      <th>1</th>\n",
       "      <td>1.519003</td>\n",
       "      <td>1.238482</td>\n",
       "      <td>3.344450</td>\n",
       "      <td>0.783744</td>\n",
       "      <td>False</td>\n",
       "    </tr>\n",
       "    <tr>\n",
       "      <th>2</th>\n",
       "      <td>0.400640</td>\n",
       "      <td>1.916748</td>\n",
       "      <td>3.291096</td>\n",
       "      <td>-0.918519</td>\n",
       "      <td>False</td>\n",
       "    </tr>\n",
       "    <tr>\n",
       "      <th>3</th>\n",
       "      <td>-1.616474</td>\n",
       "      <td>0.209703</td>\n",
       "      <td>1.461544</td>\n",
       "      <td>-0.291837</td>\n",
       "      <td>False</td>\n",
       "    </tr>\n",
       "    <tr>\n",
       "      <th>4</th>\n",
       "      <td>1.480515</td>\n",
       "      <td>5.299829</td>\n",
       "      <td>2.640670</td>\n",
       "      <td>1.867559</td>\n",
       "      <td>True</td>\n",
       "    </tr>\n",
       "  </tbody>\n",
       "</table>\n",
       "</div>"
      ],
      "text/plain": [
       "   feature_1  feature_2  feature_3  feature_4  isVirus\n",
       "0  -0.233467   0.308799   2.484015   1.732721    False\n",
       "1   1.519003   1.238482   3.344450   0.783744    False\n",
       "2   0.400640   1.916748   3.291096  -0.918519    False\n",
       "3  -1.616474   0.209703   1.461544  -0.291837    False\n",
       "4   1.480515   5.299829   2.640670   1.867559     True"
      ]
     },
     "execution_count": 2,
     "metadata": {},
     "output_type": "execute_result"
    }
   ],
   "source": [
    "#Importing necessary libraries\n",
    "import pandas as pd\n",
    "import numpy as np\n",
    "import matplotlib.pyplot as plt\n",
    "import seaborn as sns\n",
    "from sklearn.model_selection import train_test_split,GridSearchCV\n",
    "from sklearn.preprocessing import StandardScaler\n",
    "from imblearn.over_sampling import SMOTE\n",
    "from sklearn.ensemble import RandomForestClassifier,GradientBoostingClassifier,AdaBoostClassifier\n",
    "from sklearn.linear_model import LogisticRegression\n",
    "from sklearn.neighbors import KNeighborsClassifier\n",
    "from lightgbm import LGBMClassifier\n",
    "from xgboost import XGBClassifier\n",
    "from sklearn.metrics import accuracy_score,f1_score,recall_score,precision_score\n",
    "import warnings\n",
    "\n",
    "#Loading data and looking first five row\n",
    "df=pd.read_csv(\"dataset.csv\")\n",
    "df.head()"
   ]
  },
  {
   "cell_type": "code",
   "execution_count": 3,
   "metadata": {
    "colab": {
     "base_uri": "https://localhost:8080/",
     "height": 175
    },
    "id": "AxSJxascPJnb",
    "outputId": "d3fd5a45-ad8b-4845-8a07-cd55f9341a0b"
   },
   "outputs": [
    {
     "data": {
      "text/html": [
       "<div>\n",
       "<style scoped>\n",
       "    .dataframe tbody tr th:only-of-type {\n",
       "        vertical-align: middle;\n",
       "    }\n",
       "\n",
       "    .dataframe tbody tr th {\n",
       "        vertical-align: top;\n",
       "    }\n",
       "\n",
       "    .dataframe thead th {\n",
       "        text-align: right;\n",
       "    }\n",
       "</style>\n",
       "<table border=\"1\" class=\"dataframe\">\n",
       "  <thead>\n",
       "    <tr style=\"text-align: right;\">\n",
       "      <th></th>\n",
       "      <th>count</th>\n",
       "      <th>mean</th>\n",
       "      <th>std</th>\n",
       "      <th>min</th>\n",
       "      <th>1%</th>\n",
       "      <th>5%</th>\n",
       "      <th>25%</th>\n",
       "      <th>50%</th>\n",
       "      <th>75%</th>\n",
       "      <th>95%</th>\n",
       "      <th>99%</th>\n",
       "      <th>max</th>\n",
       "    </tr>\n",
       "  </thead>\n",
       "  <tbody>\n",
       "    <tr>\n",
       "      <th>feature_1</th>\n",
       "      <td>1897.0</td>\n",
       "      <td>0.814404</td>\n",
       "      <td>1.729538</td>\n",
       "      <td>-2.285499</td>\n",
       "      <td>-1.681182</td>\n",
       "      <td>-1.147612</td>\n",
       "      <td>-0.556433</td>\n",
       "      <td>0.084789</td>\n",
       "      <td>2.270955</td>\n",
       "      <td>3.937620</td>\n",
       "      <td>4.883672</td>\n",
       "      <td>5.929096</td>\n",
       "    </tr>\n",
       "    <tr>\n",
       "      <th>feature_2</th>\n",
       "      <td>1899.0</td>\n",
       "      <td>1.795843</td>\n",
       "      <td>1.605611</td>\n",
       "      <td>-7.363119</td>\n",
       "      <td>-2.870160</td>\n",
       "      <td>-1.063739</td>\n",
       "      <td>0.975148</td>\n",
       "      <td>1.881904</td>\n",
       "      <td>2.840511</td>\n",
       "      <td>4.203800</td>\n",
       "      <td>5.136615</td>\n",
       "      <td>7.549658</td>\n",
       "    </tr>\n",
       "    <tr>\n",
       "      <th>feature_3</th>\n",
       "      <td>1893.0</td>\n",
       "      <td>2.621096</td>\n",
       "      <td>1.474973</td>\n",
       "      <td>-5.363119</td>\n",
       "      <td>-0.933726</td>\n",
       "      <td>0.452311</td>\n",
       "      <td>1.671905</td>\n",
       "      <td>2.499623</td>\n",
       "      <td>3.470200</td>\n",
       "      <td>5.079245</td>\n",
       "      <td>6.553306</td>\n",
       "      <td>9.549658</td>\n",
       "    </tr>\n",
       "    <tr>\n",
       "      <th>feature_4</th>\n",
       "      <td>1897.0</td>\n",
       "      <td>0.807499</td>\n",
       "      <td>1.768597</td>\n",
       "      <td>-3.006499</td>\n",
       "      <td>-1.797488</td>\n",
       "      <td>-1.184950</td>\n",
       "      <td>-0.563357</td>\n",
       "      <td>0.021857</td>\n",
       "      <td>2.319822</td>\n",
       "      <td>4.040934</td>\n",
       "      <td>4.926657</td>\n",
       "      <td>5.759355</td>\n",
       "    </tr>\n",
       "  </tbody>\n",
       "</table>\n",
       "</div>"
      ],
      "text/plain": [
       "            count      mean       std       min        1%        5%       25%  \\\n",
       "feature_1  1897.0  0.814404  1.729538 -2.285499 -1.681182 -1.147612 -0.556433   \n",
       "feature_2  1899.0  1.795843  1.605611 -7.363119 -2.870160 -1.063739  0.975148   \n",
       "feature_3  1893.0  2.621096  1.474973 -5.363119 -0.933726  0.452311  1.671905   \n",
       "feature_4  1897.0  0.807499  1.768597 -3.006499 -1.797488 -1.184950 -0.563357   \n",
       "\n",
       "                50%       75%       95%       99%       max  \n",
       "feature_1  0.084789  2.270955  3.937620  4.883672  5.929096  \n",
       "feature_2  1.881904  2.840511  4.203800  5.136615  7.549658  \n",
       "feature_3  2.499623  3.470200  5.079245  6.553306  9.549658  \n",
       "feature_4  0.021857  2.319822  4.040934  4.926657  5.759355  "
      ]
     },
     "execution_count": 3,
     "metadata": {},
     "output_type": "execute_result"
    }
   ],
   "source": [
    "# Looking at the statistical properties of numerical data\n",
    "df.describe(percentiles=[0.01,0.05,0.25,0.5,0.75,0.95,0.99]).T"
   ]
  },
  {
   "cell_type": "code",
   "execution_count": 8,
   "metadata": {
    "colab": {
     "base_uri": "https://localhost:8080/",
     "height": 492
    },
    "id": "MRjQFpRNPJp1",
    "outputId": "c56caba3-a118-416d-fa82-47c8c9bae596"
   },
   "outputs": [
    {
     "data": {
      "image/png": "[encoded data removed]",
      "text/plain": [
       "<Figure size 432x288 with 4 Axes>"
      ]
     },
     "metadata": {
      "needs_background": "light"
     },
     "output_type": "display_data"
    }
   ],
   "source": [
    "# Plotting distributions of features\n",
    "fig, axs=plt.subplots(2, 2)\n",
    "fig.suptitle(\"Distribution of Features\")\n",
    "\n",
    "axs[0,0].hist(df[\"feature_1\"],bins=100)\n",
    "axs[0, 0].set_title(\"Feature 1\")\n",
    "\n",
    "axs[0,1].hist(df[\"feature_2\"],bins=100)\n",
    "axs[0, 1].set_title(\"Feature 2\")\n",
    "\n",
    "axs[1,0].hist(df[\"feature_3\"],bins=100)\n",
    "axs[1, 0].set_title(\"Feature 3\")\n",
    "\n",
    "axs[1,1].hist(df[\"feature_4\"],bins=100)\n",
    "axs[1, 1].set_title(\"Feature 4\")\n",
    "plt.tight_layout()\n",
    "plt.show()"
   ]
  },
  {
   "cell_type": "code",
   "execution_count": 5,
   "metadata": {
    "colab": {
     "base_uri": "https://localhost:8080/",
     "height": 428
    },
    "id": "Om9cFC82PJsK",
    "outputId": "486084b4-6481-4f1d-de57-8083eb28ea84"
   },
   "outputs": [
    {
     "data": {
      "image/png": "[encoded data removed]",
      "text/plain": [
       "<Figure size 432x288 with 1 Axes>"
      ]
     },
     "metadata": {},
     "output_type": "display_data"
    }
   ],
   "source": [
    "#Ploting distribution of target variable\n",
    "plt.pie(df[\"isVirus\"].value_counts(), labels=df[\"isVirus\"].unique(),autopct=\"%1.1f%%\")\n",
    "plt.title(\"Distribution of Target Variable\")\n",
    "plt.show()"
   ]
  },
  {
   "cell_type": "code",
   "execution_count": 9,
   "metadata": {
    "colab": {
     "base_uri": "https://localhost:8080/",
     "height": 175
    },
    "id": "Oo70dgdeqwlD",
    "outputId": "2c4b1156-d1eb-4b87-c729-28825edb07a0"
   },
   "outputs": [
    {
     "data": {
      "text/html": [
       "<div>\n",
       "<style scoped>\n",
       "    .dataframe tbody tr th:only-of-type {\n",
       "        vertical-align: middle;\n",
       "    }\n",
       "\n",
       "    .dataframe tbody tr th {\n",
       "        vertical-align: top;\n",
       "    }\n",
       "\n",
       "    .dataframe thead tr th {\n",
       "        text-align: left;\n",
       "    }\n",
       "\n",
       "    .dataframe thead tr:last-of-type th {\n",
       "        text-align: right;\n",
       "    }\n",
       "</style>\n",
       "<table border=\"1\" class=\"dataframe\">\n",
       "  <thead>\n",
       "    <tr>\n",
       "      <th></th>\n",
       "      <th colspan=\"2\" halign=\"left\">feature_1</th>\n",
       "      <th colspan=\"2\" halign=\"left\">feature_2</th>\n",
       "      <th colspan=\"2\" halign=\"left\">feature_3</th>\n",
       "      <th colspan=\"2\" halign=\"left\">feature_4</th>\n",
       "    </tr>\n",
       "    <tr>\n",
       "      <th></th>\n",
       "      <th>mean</th>\n",
       "      <th>median</th>\n",
       "      <th>mean</th>\n",
       "      <th>median</th>\n",
       "      <th>mean</th>\n",
       "      <th>median</th>\n",
       "      <th>mean</th>\n",
       "      <th>median</th>\n",
       "    </tr>\n",
       "    <tr>\n",
       "      <th>isVirus</th>\n",
       "      <th></th>\n",
       "      <th></th>\n",
       "      <th></th>\n",
       "      <th></th>\n",
       "      <th></th>\n",
       "      <th></th>\n",
       "      <th></th>\n",
       "      <th></th>\n",
       "    </tr>\n",
       "  </thead>\n",
       "  <tbody>\n",
       "    <tr>\n",
       "      <th>False</th>\n",
       "      <td>1.352241</td>\n",
       "      <td>1.386102</td>\n",
       "      <td>2.107789</td>\n",
       "      <td>2.295084</td>\n",
       "      <td>2.740450</td>\n",
       "      <td>2.634945</td>\n",
       "      <td>1.354239</td>\n",
       "      <td>1.327783</td>\n",
       "    </tr>\n",
       "    <tr>\n",
       "      <th>True</th>\n",
       "      <td>-0.262122</td>\n",
       "      <td>-0.404237</td>\n",
       "      <td>1.173426</td>\n",
       "      <td>1.311053</td>\n",
       "      <td>2.380677</td>\n",
       "      <td>2.233818</td>\n",
       "      <td>-0.286848</td>\n",
       "      <td>-0.405365</td>\n",
       "    </tr>\n",
       "  </tbody>\n",
       "</table>\n",
       "</div>"
      ],
      "text/plain": [
       "        feature_1           feature_2           feature_3           feature_4  \\\n",
       "             mean    median      mean    median      mean    median      mean   \n",
       "isVirus                                                                         \n",
       "False    1.352241  1.386102  2.107789  2.295084  2.740450  2.634945  1.354239   \n",
       "True    -0.262122 -0.404237  1.173426  1.311053  2.380677  2.233818 -0.286848   \n",
       "\n",
       "                   \n",
       "           median  \n",
       "isVirus            \n",
       "False    1.327783  \n",
       "True    -0.405365  "
      ]
     },
     "execution_count": 9,
     "metadata": {},
     "output_type": "execute_result"
    }
   ],
   "source": [
    "#Calculating average and median of the variables in the target variable breakdown\n",
    "df.groupby(\"isVirus\").agg({\"feature_1\":[\"mean\",\"median\"],\n",
    "                           \"feature_2\":[\"mean\",\"median\"],\n",
    "                           \"feature_3\":[\"mean\",\"median\"],\n",
    "                           \"feature_4\":[\"mean\",\"median\"]})"
   ]
  },
  {
   "cell_type": "code",
   "execution_count": 10,
   "metadata": {
    "colab": {
     "base_uri": "https://localhost:8080/",
     "height": 492
    },
    "id": "4wuXcZQKsQI_",
    "outputId": "20db4689-d003-401b-950c-92f382ef6a7d"
   },
   "outputs": [
    {
     "data": {
      "image/png": "[encoded data removed]",
      "text/plain": [
       "<Figure size 432x288 with 4 Axes>"
      ]
     },
     "metadata": {
      "needs_background": "light"
     },
     "output_type": "display_data"
    }
   ],
   "source": [
    "#Plotting target variable vs features\n",
    "fig, axs=plt.subplots(2, 2)\n",
    "fig.suptitle(\"Features vs Target Variable\")\n",
    "\n",
    "sns.barplot(data=df, x=\"isVirus\", y=\"feature_1\", ax=axs[0, 0], ci=False)\n",
    "\n",
    "sns.barplot(data=df, x=\"isVirus\", y=\"feature_2\", ax=axs[0, 1],ci=False)\n",
    "\n",
    "sns.barplot(data=df, x=\"isVirus\", y=\"feature_3\", ax=axs[1, 0],ci=False)\n",
    "\n",
    "sns.barplot(data=df, x=\"isVirus\", y=\"feature_4\", ax=axs[1, 1],ci=False)\n",
    "\n",
    "plt.tight_layout()\n",
    "plt.show()"
   ]
  },
  {
   "cell_type": "code",
   "execution_count": 11,
   "metadata": {
    "colab": {
     "base_uri": "https://localhost:8080/"
    },
    "id": "NSDCgJfGPJus",
    "outputId": "2364a852-90b1-44db-a2da-c64b0702df77"
   },
   "outputs": [
    {
     "name": "stdout",
     "output_type": "stream",
     "text": [
      "feature_1    102\n",
      "feature_2    100\n",
      "feature_3    106\n",
      "feature_4    102\n",
      "isVirus        0\n",
      "dtype: int64\n",
      "Proportion of missing values ​​in the entire data : 20.51025512756378%\n"
     ]
    }
   ],
   "source": [
    "# Checking missing values\n",
    "print(df.isnull().sum())\n",
    "print(f\"Proportion of missing values ​​in the entire data : {(df.isnull().sum().sum()/len(df))*100}%\")\n",
    "#20.5 percent is too high to drop so we should impute it"
   ]
  },
  {
   "cell_type": "code",
   "execution_count": 12,
   "metadata": {
    "colab": {
     "base_uri": "https://localhost:8080/"
    },
    "id": "nYZ4ru1mPJxZ",
    "outputId": "ef640055-fbc6-41cf-bf42-1900fcc0d3f4"
   },
   "outputs": [
    {
     "data": {
      "text/plain": [
       "feature_1    0\n",
       "feature_2    0\n",
       "feature_3    0\n",
       "feature_4    0\n",
       "isVirus      0\n",
       "dtype: int64"
      ]
     },
     "execution_count": 12,
     "metadata": {},
     "output_type": "execute_result"
    }
   ],
   "source": [
    "# Imputting missing values with the mean of its label\n",
    "\n",
    "#iterate over the columns name\n",
    "for col in [col for col in df.columns if col!=\"isVirus\"]:\n",
    "  #find index of rows which contain missing values in that column\n",
    "  missing_indices=df[df[col].isnull()].index\n",
    "\n",
    "  #iterate over these indices and impute missing values with the mean of its class\n",
    "  for index in missing_indices:\n",
    "    target_value=df.at[index, \"isVirus\"]\n",
    "    mean_value =df[df[\"isVirus\"]==target_value][col].mean()\n",
    "    df.at[index, col]=mean_value\n",
    "df.isnull().sum()"
   ]
  },
  {
   "cell_type": "code",
   "execution_count": 13,
   "metadata": {
    "colab": {
     "base_uri": "https://localhost:8080/",
     "height": 492
    },
    "id": "OUyOStVePJ0h",
    "outputId": "16f3fb91-a0c7-4801-a620-bad637f7892f"
   },
   "outputs": [
    {
     "data": {
      "image/png": "[encoded data removed]",
      "text/plain": [
       "<Figure size 432x288 with 4 Axes>"
      ]
     },
     "metadata": {
      "needs_background": "light"
     },
     "output_type": "display_data"
    }
   ],
   "source": [
    "#checking outliers in features bu plotting box plot\n",
    "fig, axs=plt.subplots(2, 2)\n",
    "fig.suptitle(\"Box Plot of Features\")\n",
    "\n",
    "axs[0,0].boxplot(df[\"feature_1\"])\n",
    "axs[0, 0].set_title(\"Feature 1\")\n",
    "\n",
    "axs[0,1].boxplot(df[\"feature_2\"])\n",
    "axs[0, 1].set_title(\"Feature 2\")\n",
    "\n",
    "axs[1,0].boxplot(df[\"feature_3\"])\n",
    "axs[1, 0].set_title(\"Feature 3\")\n",
    "\n",
    "axs[1,1].boxplot(df[\"feature_4\"])\n",
    "axs[1, 1].set_title(\"Feature 4\")\n",
    "\n",
    "plt.tight_layout()\n",
    "plt.show()\n",
    "\n",
    "\n"
   ]
  },
  {
   "cell_type": "code",
   "execution_count": 14,
   "metadata": {
    "colab": {
     "base_uri": "https://localhost:8080/"
    },
    "id": "8JmEZw8tPJ3G",
    "outputId": "751d5699-7b79-48a6-db7f-7da6261cc6e2"
   },
   "outputs": [
    {
     "name": "stdout",
     "output_type": "stream",
     "text": [
      "Number of outliers in column feature_1: 0\n",
      "************************************************************\n",
      "Number of outliers in column feature_2: 64\n",
      "After replacing them with upper and lower limits\n",
      "Number of outliers in column feature_2: 0\n",
      "************************************************************\n",
      "Number of outliers in column feature_3: 62\n",
      "After replacing them with upper and lower limits\n",
      "Number of outliers in column feature_3: 0\n",
      "************************************************************\n",
      "Number of outliers in column feature_4: 0\n",
      "************************************************************\n"
     ]
    }
   ],
   "source": [
    "#There are outliers in feature_2 and feature_3\n",
    "#Imputing outliers with the upper and lower limit\n",
    "\n",
    "for col in [col for col in df.columns if col!=\"isVirus\"]:\n",
    "  quantile_25=df[col].quantile(0.25)\n",
    "  quantile_75=df[col].quantile(0.75)\n",
    "  iqr=quantile_75-quantile_25\n",
    "  upper_limit=quantile_75+1.5*iqr\n",
    "  lower_limit=quantile_25-1.5*iqr\n",
    "  number_of_outliers=len(df[(df[col]>upper_limit)|(df[col]<lower_limit)])\n",
    "  print(f\"Number of outliers in column {col}: {number_of_outliers}\")\n",
    "  if number_of_outliers>0:\n",
    "    df.loc[df[col]<lower_limit,col]=lower_limit\n",
    "    df.loc[df[col]>upper_limit,col]=upper_limit\n",
    "    number_of_outliers=len(df[(df[col]>upper_limit)|(df[col]<lower_limit)])\n",
    "    print(\"After replacing them with upper and lower limits\")\n",
    "    print(f\"Number of outliers in column {col}: {number_of_outliers}\")\n",
    "    print(\"************************************************************\")\n",
    "    continue\n",
    "  print(\"************************************************************\")"
   ]
  },
  {
   "cell_type": "code",
   "execution_count": 15,
   "metadata": {
    "id": "rkOKhb0EcGHt"
   },
   "outputs": [],
   "source": [
    "#Splitting data into train set and test set\n",
    "X=df.drop(\"isVirus\",axis=1)\n",
    "y=df[[\"isVirus\"]]\n",
    "X_train,X_test,y_train,y_test = train_test_split(X,y,test_size=0.2,random_state=42,stratify=y)\n"
   ]
  },
  {
   "cell_type": "code",
   "execution_count": 16,
   "metadata": {
    "id": "J5prnRQiPJ5k"
   },
   "outputs": [],
   "source": [
    "# Oversampling to remove imbalance in the data set\n",
    "sm=SMOTE(random_state=42)\n",
    "X_train_resampled, y_train_resampled = sm.fit_resample(X_train, y_train)"
   ]
  },
  {
   "cell_type": "code",
   "execution_count": 17,
   "metadata": {
    "colab": {
     "base_uri": "https://localhost:8080/"
    },
    "id": "T3-gZfwgPJ8C",
    "outputId": "0af1b703-b8a5-4821-ac1d-6167b7c39d26"
   },
   "outputs": [
    {
     "data": {
      "text/plain": [
       "isVirus\n",
       "False      1065\n",
       "True       1065\n",
       "dtype: int64"
      ]
     },
     "execution_count": 17,
     "metadata": {},
     "output_type": "execute_result"
    }
   ],
   "source": [
    "#Checking new distribution of target variables\n",
    "y_train_resampled.value_counts()"
   ]
  },
  {
   "cell_type": "code",
   "execution_count": 18,
   "metadata": {
    "id": "dRszSI3qPJ-Y"
   },
   "outputs": [],
   "source": [
    "#Scaling our data with standard scaler\n",
    "scaler=StandardScaler()\n",
    "X_train_resampled=scaler.fit_transform(X_train_resampled)\n",
    "X_test=scaler.transform(X_test)"
   ]
  },
  {
   "cell_type": "code",
   "execution_count": 19,
   "metadata": {
    "colab": {
     "base_uri": "https://localhost:8080/"
    },
    "id": "pihuclQLPKAi",
    "outputId": "6660d73f-e82b-4efb-efb6-b95cc7d3beb3"
   },
   "outputs": [
    {
     "name": "stdout",
     "output_type": "stream",
     "text": [
      "***********************RF*********************************\n",
      "Accuracy score of RF: 0.875\n",
      "F1 score of RF: 0.8046875\n",
      "Recall score of RF: 0.7744360902255639\n",
      "Precision score of RF: 0.8373983739837398\n",
      "[LightGBM] [Warning] Auto-choosing row-wise multi-threading, the overhead of testing was 0.000429 seconds.\n",
      "You can set `force_row_wise=true` to remove the overhead.\n",
      "And if memory is not enough, you can set `force_col_wise=true`.\n",
      "***********************LGBM*********************************\n",
      "Accuracy score of LGBM: 0.88\n",
      "F1 score of LGBM: 0.816793893129771\n",
      "Recall score of LGBM: 0.8045112781954887\n",
      "Precision score of LGBM: 0.8294573643410853\n",
      "***********************XGB*********************************\n",
      "Accuracy score of XGB: 0.87\n",
      "F1 score of XGB: 0.8\n",
      "Recall score of XGB: 0.7819548872180451\n",
      "Precision score of XGB: 0.8188976377952756\n",
      "***********************GB*********************************\n",
      "Accuracy score of GB: 0.865\n",
      "F1 score of GB: 0.8014705882352942\n",
      "Recall score of GB: 0.8195488721804511\n",
      "Precision score of GB: 0.7841726618705036\n",
      "***********************ADA*********************************\n",
      "Accuracy score of ADA: 0.815\n",
      "F1 score of ADA: 0.748299319727891\n",
      "Recall score of ADA: 0.8270676691729323\n",
      "Precision score of ADA: 0.6832298136645962\n",
      "***********************KNeighbors*********************************\n",
      "Accuracy score of KNeighbors: 0.8675\n",
      "F1 score of KNeighbors: 0.8044280442804428\n",
      "Recall score of KNeighbors: 0.8195488721804511\n",
      "Precision score of KNeighbors: 0.7898550724637681\n",
      "***********************LR*********************************\n",
      "Accuracy score of LR: 0.7075\n",
      "F1 score of LR: 0.6628242074927955\n",
      "Recall score of LR: 0.8646616541353384\n",
      "Precision score of LR: 0.5373831775700935\n"
     ]
    }
   ],
   "source": [
    "#Training and evaluating different classifying models\n",
    "warnings.filterwarnings(\"ignore\")\n",
    "models=[(\"RF\",RandomForestClassifier(random_state=42)),\n",
    "        (\"LGBM\",LGBMClassifier(random_state=42,verbose=0)),\n",
    "        (\"XGB\",XGBClassifier(random_state=42)),\n",
    "        (\"GB\",GradientBoostingClassifier(random_state=42)),\n",
    "        (\"ADA\",AdaBoostClassifier(random_state=42)),\n",
    "        (\"KNeighbors\",KNeighborsClassifier(n_neighbors=5)),\n",
    "        (\"LR\",LogisticRegression(random_state=42))]\n",
    "for name,model in models:\n",
    "  model.fit(X_train_resampled,y_train_resampled)\n",
    "  y_pred=model.predict(X_test)\n",
    "  print(f\"***********************{name}*********************************\")\n",
    "  #Since our dataset is inbalanced, accuracy score can be missleading.\n",
    "  #So we also should consider F1 Recall and Precision scores\n",
    "  print(f\"Accuracy score of {name}: {accuracy_score(y_test,y_pred)}\")\n",
    "  print(f\"F1 score of {name}: {f1_score(y_test,y_pred)}\")\n",
    "  print(f\"Recall score of {name}: {recall_score(y_test,y_pred)}\")\n",
    "  print(f\"Precision score of {name}: {precision_score(y_test,y_pred)}\")\n",
    "\n"
   ]
  },
  {
   "cell_type": "code",
   "execution_count": 21,
   "metadata": {
    "colab": {
     "base_uri": "https://localhost:8080/",
     "height": 373
    },
    "id": "tpxn4wonPKD9",
    "outputId": "248029a1-14e1-4b88-a3ac-eb7b8bb39042"
   },
   "outputs": [
    {
     "name": "stdout",
     "output_type": "stream",
     "text": [
      "Fitting 3 folds for each of 180 candidates, totalling 540 fits\n",
      "{'max_depth': None, 'max_features': 5, 'min_samples_split': 2, 'n_estimators': 100}\n",
      "0.9248826291079811\n",
      "Accuracy score of RF_final: 0.8875\n",
      "F1 score of RF_final: 0.8275862068965517\n",
      "Recall score of RF_final: 0.8120300751879699\n",
      "Precision score of RF_final: 0.84375\n"
     ]
    }
   ],
   "source": [
    "#Tuning the hyperparameter of the two models\n",
    "#RandomForest\n",
    "rf_model = RandomForestClassifier()\n",
    "\n",
    "rf_params = {\"max_depth\": [5, 8, None],\n",
    "             \"max_features\": [3, 5, 7, \"auto\"],\n",
    "             \"min_samples_split\": [2, 5, 8, 15, 20],\n",
    "             \"n_estimators\": [100, 200, 500]}\n",
    "rf_best_grid = GridSearchCV(rf_model, rf_params, cv=3, n_jobs=-1, verbose=True).fit(X_train_resampled, y_train_resampled)\n",
    "print(rf_best_grid.best_params_)\n",
    "print(rf_best_grid.best_score_)\n",
    "rf_final = rf_model.set_params(**rf_best_grid.best_params_).fit(X_train_resampled, y_train_resampled)\n",
    "y_pred=rf_final.predict(X_test)\n",
    "print(f\"Accuracy score of RF_final: {accuracy_score(y_test,y_pred)}\")\n",
    "print(f\"F1 score of RF_final: {f1_score(y_test,y_pred)}\")\n",
    "print(f\"Recall score of RF_final: {recall_score(y_test,y_pred)}\")\n",
    "print(f\"Precision score of RF_final: {precision_score(y_test,y_pred)}\")\n"
   ]
  },
  {
   "cell_type": "code",
   "execution_count": 22,
   "metadata": {
    "id": "ZgKCrLoGydV9"
   },
   "outputs": [
    {
     "name": "stdout",
     "output_type": "stream",
     "text": [
      "Fitting 3 folds for each of 135 candidates, totalling 405 fits\n",
      "Accuracy score of XGB_final: 0.875\n",
      "F1 score of XGB_final: 0.8091603053435114\n",
      "Recall score of XGB_final: 0.7969924812030075\n",
      "Precision score of XGB_final: 0.8217054263565892\n"
     ]
    }
   ],
   "source": [
    "#XGBoost\n",
    "xgboost_model = XGBClassifier()\n",
    "\n",
    "xgboost_params = {\"learning_rate\": [0.1, 0.01, 0.001],\n",
    "                  \"max_depth\": [5, 8, 12, 15, 20],\n",
    "                  \"n_estimators\": [100, 500, 1000],\n",
    "                  \"colsample_bytree\": [0.5, 0.7, 1]}\n",
    "xgboost_best_grid = GridSearchCV(xgboost_model, xgboost_params, cv=3, n_jobs=-1, verbose=True).fit(X_train_resampled, y_train_resampled)\n",
    "xgboost_final = xgboost_model.set_params(**xgboost_best_grid.best_params_, random_state=17).fit(X_train_resampled, y_train_resampled)\n",
    "\n",
    "y_pred=xgboost_final.predict(X_test)\n",
    "print(f\"Accuracy score of XGB_final: {accuracy_score(y_test,y_pred)}\")\n",
    "print(f\"F1 score of XGB_final: {f1_score(y_test,y_pred)}\")\n",
    "print(f\"Recall score of XGB_final: {recall_score(y_test,y_pred)}\")\n",
    "print(f\"Precision score of XGB_final: {precision_score(y_test,y_pred)}\")"
   ]
  },
  {
   "cell_type": "code",
   "execution_count": null,
   "metadata": {
    "id": "LOAPSVhCzNNq"
   },
   "outputs": [],
   "source": []
  }
 ],
 "metadata": {
  "colab": {
   "provenance": []
  },
  "kernelspec": {
   "display_name": "Python 3",
   "language": "python",
   "name": "python3"
  },
  "language_info": {
   "codemirror_mode": {
    "name": "ipython",
    "version": 3
   },
   "file_extension": ".py",
   "mimetype": "text/x-python",
   "name": "python",
   "nbconvert_exporter": "python",
   "pygments_lexer": "ipython3",
   "version": "3.8.8"
  }
 },
 "nbformat": 4,
 "nbformat_minor": 1
}
